{
 "cells": [
  {
   "cell_type": "markdown",
   "id": "5885e323-3b5e-432d-81dd-dfcbdbd93cd3",
   "metadata": {
    "tags": []
   },
   "source": [
    "## 프로그래밍이란?\n",
    "-programming : 프로그래밍 언어를 사용해서 프로그램을 개발하는 것.\n",
    "-program : 일련의 작업을 자동화하는 것.\n",
    "-python : 프로그래밍 언어 중 하나. 인간이 컴퓨터에게 작업을 명령하기 위해 컴퓨터가 이해할 수 있는 언어"
   ]
  },
  {
   "cell_type": "markdown",
   "id": "e18d62de-404f-4996-89bf-262647efe8b8",
   "metadata": {
    "tags": []
   },
   "source": [
    "## Ch2. Data : Types, Values, Variables, and Names"
   ]
  },
  {
   "cell_type": "code",
   "execution_count": 3,
   "id": "1b2dce35-3544-4678-bac7-1b40a6cdc1d2",
   "metadata": {
    "tags": []
   },
   "outputs": [],
   "source": [
    "a = 2 "
   ]
  },
  {
   "cell_type": "markdown",
   "id": "0f96557b-49b1-4a3a-9339-09b3d56c33c7",
   "metadata": {
    "tags": []
   },
   "source": [
    "- markdown = m+\n",
    "\n",
    "- 변수 : variable : 특정 값을 저장하는 공간\n",
    "- 값 : value : 2\n",
    "- 자료형 : type : 2가 어떤 타입인가? 데이터의 형태 integer, int타입\n",
    "- 할당하다 : assign : 2를 a에 넣는 과정\n",
    "    - a가 2다??? a == 2 (equal)"
   ]
  },
  {
   "cell_type": "code",
   "execution_count": 4,
   "id": "b9e82417-e705-4b83-8697-6e968740af87",
   "metadata": {
    "tags": []
   },
   "outputs": [
    {
     "data": {
      "text/plain": [
       "2"
      ]
     },
     "execution_count": 4,
     "metadata": {},
     "output_type": "execute_result"
    }
   ],
   "source": [
    "a"
   ]
  },
  {
   "cell_type": "code",
   "execution_count": 5,
   "id": "13bdd361-666c-4e70-9056-043431d1763a",
   "metadata": {},
   "outputs": [
    {
     "data": {
      "text/plain": [
       "True"
      ]
     },
     "execution_count": 5,
     "metadata": {},
     "output_type": "execute_result"
    }
   ],
   "source": [
    "a == 2"
   ]
  },
  {
   "cell_type": "markdown",
   "id": "3c428005-9d8a-4872-8be1-96346acd6ffa",
   "metadata": {},
   "source": [
    "### 변수의 타입\n",
    "- boolean : True, False (bool)\n",
    "- integerㅣ정수 : 1, 2, 3, 4, ... (int)\n",
    "- floating point numberㅣ부동소수점: 1.0, 2.0, 0.45, ... (float)\n",
    "- stringㅣ문자열 : \"apple\" (str)"
   ]
  },
  {
   "cell_type": "code",
   "execution_count": 6,
   "id": "bc55e35b-d908-4f1d-851c-eb5e57c1f0f7",
   "metadata": {},
   "outputs": [
    {
     "data": {
      "text/plain": [
       "4"
      ]
     },
     "execution_count": 6,
     "metadata": {},
     "output_type": "execute_result"
    }
   ],
   "source": [
    "num = 4\n",
    "4"
   ]
  },
  {
   "cell_type": "code",
   "execution_count": 8,
   "id": "c2ed2473-b5cf-4eb4-a0aa-96574cfac946",
   "metadata": {},
   "outputs": [
    {
     "name": "stdout",
     "output_type": "stream",
     "text": [
      "4\n"
     ]
    }
   ],
   "source": [
    "print(num)"
   ]
  },
  {
   "cell_type": "code",
   "execution_count": 9,
   "id": "8a8dc63b-7d36-4b1c-9e8d-d0e619f08b69",
   "metadata": {},
   "outputs": [
    {
     "data": {
      "text/plain": [
       "int"
      ]
     },
     "execution_count": 9,
     "metadata": {},
     "output_type": "execute_result"
    }
   ],
   "source": [
    "type(num)"
   ]
  },
  {
   "cell_type": "code",
   "execution_count": 10,
   "id": "ac005636-c7aa-4241-96b6-a9a7284382b8",
   "metadata": {},
   "outputs": [
    {
     "data": {
      "text/plain": [
       "float"
      ]
     },
     "execution_count": 10,
     "metadata": {},
     "output_type": "execute_result"
    }
   ],
   "source": [
    "type(1.0)"
   ]
  },
  {
   "cell_type": "code",
   "execution_count": 11,
   "id": "da38a596-4ffd-4e16-819b-48351cb2b0b7",
   "metadata": {},
   "outputs": [
    {
     "data": {
      "text/plain": [
       "bool"
      ]
     },
     "execution_count": 11,
     "metadata": {},
     "output_type": "execute_result"
    }
   ],
   "source": [
    "type(a == 2)"
   ]
  },
  {
   "cell_type": "code",
   "execution_count": 13,
   "id": "81870686-fdf3-4bcc-88d1-0d315e23f397",
   "metadata": {},
   "outputs": [
    {
     "name": "stdout",
     "output_type": "stream",
     "text": [
      "my name\n"
     ]
    }
   ],
   "source": [
    "name = 'my name'\n",
    "print(name)"
   ]
  },
  {
   "cell_type": "code",
   "execution_count": 14,
   "id": "26539345-21d0-4830-8e67-9712917628f2",
   "metadata": {},
   "outputs": [
    {
     "data": {
      "text/plain": [
       "str"
      ]
     },
     "execution_count": 14,
     "metadata": {},
     "output_type": "execute_result"
    }
   ],
   "source": [
    "type(name)"
   ]
  },
  {
   "cell_type": "code",
   "execution_count": 15,
   "id": "e030d755-83bb-42a4-9615-3fb3ddaf0a18",
   "metadata": {},
   "outputs": [
    {
     "name": "stdout",
     "output_type": "stream",
     "text": [
      "I'm Sam\n",
      "I'm Sam\n"
     ]
    }
   ],
   "source": [
    "# single quote 안에 single quote를 문자로 인식하는 방법\n",
    "#'I'm Sam'\n",
    "\n",
    "# 1. \\ 사용\n",
    "print('I\\'m Sam')\n",
    "\n",
    "# 2. \"\" 사용\n",
    "print(\"I'm Sam\")"
   ]
  },
  {
   "cell_type": "markdown",
   "id": "ceff5d6d-de51-4dae-8c7b-51b2f3e9f2bb",
   "metadata": {},
   "source": [
    "## 변수명 정하기\n",
    "- 소문자, 대문자, 숫자, 언더바(_), 사용한다.\n",
    "    - 예 : 'my name'\n",
    "    - 불가능한 예 : 'my-name', '3name'\n",
    "  \n",
    "- 변수명으로 사용할 수 없는 케이스\n",
    "    1. 숫자로 시작할 수 없다.\n",
    "    2. 예약어(문법 단어)는 사용할 수 없다."
   ]
  },
  {
   "cell_type": "code",
   "execution_count": 16,
   "id": "00eab33b-a34f-4c68-a172-20de3d012efd",
   "metadata": {},
   "outputs": [
    {
     "data": {
      "text/plain": [
       "'lee'"
      ]
     },
     "execution_count": 16,
     "metadata": {},
     "output_type": "execute_result"
    }
   ],
   "source": [
    "name = 'lee'\n",
    "name"
   ]
  },
  {
   "cell_type": "code",
   "execution_count": 17,
   "id": "57ee4c07-636c-45f3-951f-221eefd5d0a8",
   "metadata": {},
   "outputs": [
    {
     "ename": "SyntaxError",
     "evalue": "invalid syntax (<ipython-input-17-371e79cce3a3>, line 1)",
     "output_type": "error",
     "traceback": [
      "\u001b[1;36m  File \u001b[1;32m\"<ipython-input-17-371e79cce3a3>\"\u001b[1;36m, line \u001b[1;32m1\u001b[0m\n\u001b[1;33m    3name = 'kim'\u001b[0m\n\u001b[1;37m     ^\u001b[0m\n\u001b[1;31mSyntaxError\u001b[0m\u001b[1;31m:\u001b[0m invalid syntax\n"
     ]
    }
   ],
   "source": [
    "3name = 'kim'  #숫자는 변수명 맨 앞에 올 수 X"
   ]
  },
  {
   "cell_type": "code",
   "execution_count": 18,
   "id": "8d37b743-5561-4696-a737-1fafa99242ed",
   "metadata": {},
   "outputs": [
    {
     "ename": "SyntaxError",
     "evalue": "invalid syntax (<ipython-input-18-9da7d426b576>, line 1)",
     "output_type": "error",
     "traceback": [
      "\u001b[1;36m  File \u001b[1;32m\"<ipython-input-18-9da7d426b576>\"\u001b[1;36m, line \u001b[1;32m1\u001b[0m\n\u001b[1;33m    def = 'Hwang'\u001b[0m\n\u001b[1;37m        ^\u001b[0m\n\u001b[1;31mSyntaxError\u001b[0m\u001b[1;31m:\u001b[0m invalid syntax\n"
     ]
    }
   ],
   "source": [
    "def = 'Hwang'"
   ]
  },
  {
   "cell_type": "markdown",
   "id": "8883d23b-6bb7-490f-9b1b-b0ee21ad2163",
   "metadata": {},
   "source": [
    "- 주의할 점 (특별한 용도가 있어서 일반적으로 사용하지 않는 변수명 타입)\n",
    "    1. 언더바로 시작하는 변수명\n",
    "        예: _name\n",
    "    2. 언더바가 2개 있는 변수명\n",
    "        예: __name\n",
    "    3. 대문자로 시작하는 변수명 (클래스를 지칭하기 때문)\n",
    "        예: Car\n",
    "    4. 전체가 대문사인 변수명\n",
    "        예: CAR"
   ]
  },
  {
   "cell_type": "code",
   "execution_count": 19,
   "id": "837caf3c-24b3-4a72-aad8-23ae51423c64",
   "metadata": {},
   "outputs": [],
   "source": [
    "# number != Number\n",
    "word1 = 'number'\n",
    "word2 = 'Number'"
   ]
  },
  {
   "cell_type": "code",
   "execution_count": 20,
   "id": "b93a16a2-5bc5-4a39-8e7a-1fef46efd856",
   "metadata": {},
   "outputs": [
    {
     "data": {
      "text/plain": [
       "False"
      ]
     },
     "execution_count": 20,
     "metadata": {},
     "output_type": "execute_result"
    }
   ],
   "source": [
    "word1 == word2  #대소문자 구분한다"
   ]
  },
  {
   "cell_type": "code",
   "execution_count": 21,
   "id": "2c4c3f9b-65f0-4775-92c6-e52a6f6a4d7b",
   "metadata": {},
   "outputs": [
    {
     "data": {
      "text/plain": [
       "True"
      ]
     },
     "execution_count": 21,
     "metadata": {},
     "output_type": "execute_result"
    }
   ],
   "source": [
    "word1 != word2"
   ]
  },
  {
   "cell_type": "markdown",
   "id": "201631ff-9386-439e-8f8f-a2406474b99c",
   "metadata": {},
   "source": [
    "### 할당하기\n",
    "- 수학에서는 =가 양변이 같음을 의미하지만, 프로그램에서는 할당을 의미한다.\n",
    "    예: 'name = 'lee''\n",
    "    - lee라는 값을 name에 넣는 것.\n",
    "- 오른쪽에 있는 모든 것은 값을 가져야 한다. (\"초기화\")\n",
    "- 변수 타입은 따로 지정하지 않는다."
   ]
  },
  {
   "cell_type": "code",
   "execution_count": 22,
   "id": "07a058b1-7879-4e07-8218-9dac732b0f9b",
   "metadata": {},
   "outputs": [],
   "source": [
    "car = 'hyundai'"
   ]
  },
  {
   "cell_type": "code",
   "execution_count": 23,
   "id": "8402499d-c27f-446c-9fd2-25b2bab3ab04",
   "metadata": {},
   "outputs": [
    {
     "ename": "NameError",
     "evalue": "name 'kia' is not defined",
     "output_type": "error",
     "traceback": [
      "\u001b[1;31m---------------------------------------------------------------------------\u001b[0m",
      "\u001b[1;31mNameError\u001b[0m                                 Traceback (most recent call last)",
      "\u001b[1;32m<ipython-input-23-3066ce107446>\u001b[0m in \u001b[0;36m<module>\u001b[1;34m\u001b[0m\n\u001b[1;32m----> 1\u001b[1;33m \u001b[0mtruck\u001b[0m \u001b[1;33m=\u001b[0m \u001b[0mkia\u001b[0m\u001b[1;33m\u001b[0m\u001b[1;33m\u001b[0m\u001b[0m\n\u001b[0m",
      "\u001b[1;31mNameError\u001b[0m: name 'kia' is not defined"
     ]
    }
   ],
   "source": [
    "truck = kia  #없는 값이기 때문에 에러남"
   ]
  },
  {
   "cell_type": "code",
   "execution_count": 25,
   "id": "b498332a-3826-4dc9-bc15-4962ddbb1de6",
   "metadata": {},
   "outputs": [
    {
     "data": {
      "text/plain": [
       "'kia'"
      ]
     },
     "execution_count": 25,
     "metadata": {},
     "output_type": "execute_result"
    }
   ],
   "source": [
    "kia = 'kia'\n",
    "truck = kia\n",
    "truck"
   ]
  },
  {
   "cell_type": "code",
   "execution_count": 26,
   "id": "b711de5a-6d3d-499b-8052-172d0261f6c3",
   "metadata": {},
   "outputs": [
    {
     "ename": "NameError",
     "evalue": "name 'x' is not defined",
     "output_type": "error",
     "traceback": [
      "\u001b[1;31m---------------------------------------------------------------------------\u001b[0m",
      "\u001b[1;31mNameError\u001b[0m                                 Traceback (most recent call last)",
      "\u001b[1;32m<ipython-input-26-cb719eede178>\u001b[0m in \u001b[0;36m<module>\u001b[1;34m\u001b[0m\n\u001b[1;32m----> 1\u001b[1;33m \u001b[0my\u001b[0m \u001b[1;33m=\u001b[0m \u001b[0mx\u001b[0m \u001b[1;33m+\u001b[0m \u001b[1;36m10\u001b[0m\u001b[1;33m\u001b[0m\u001b[1;33m\u001b[0m\u001b[0m\n\u001b[0m",
      "\u001b[1;31mNameError\u001b[0m: name 'x' is not defined"
     ]
    }
   ],
   "source": [
    "y = x + 10  #name 'x' is not defined  #x가 초기화 되지 않았다"
   ]
  },
  {
   "cell_type": "code",
   "execution_count": 27,
   "id": "03cd137e-0d04-4db5-b3bd-4ef23dc916e3",
   "metadata": {},
   "outputs": [
    {
     "name": "stdout",
     "output_type": "stream",
     "text": [
      "2 12\n"
     ]
    }
   ],
   "source": [
    "x = 2\n",
    "y = x + 10\n",
    "print(x, y)"
   ]
  },
  {
   "cell_type": "code",
   "execution_count": 28,
   "id": "ddcdac13-1348-43b3-989b-93b5c865c8a5",
   "metadata": {},
   "outputs": [
    {
     "data": {
      "text/plain": [
       "str"
      ]
     },
     "execution_count": 28,
     "metadata": {},
     "output_type": "execute_result"
    }
   ],
   "source": [
    "type(car)  #str"
   ]
  },
  {
   "cell_type": "code",
   "execution_count": null,
   "id": "013df7f9-1ac6-409c-8108-86a5623297c8",
   "metadata": {},
   "outputs": [],
   "source": []
  }
 ],
 "metadata": {
  "kernelspec": {
   "display_name": "Python 3",
   "language": "python",
   "name": "python3"
  },
  "language_info": {
   "codemirror_mode": {
    "name": "ipython",
    "version": 3
   },
   "file_extension": ".py",
   "mimetype": "text/x-python",
   "name": "python",
   "nbconvert_exporter": "python",
   "pygments_lexer": "ipython3",
   "version": "3.8.8"
  }
 },
 "nbformat": 4,
 "nbformat_minor": 5
}
